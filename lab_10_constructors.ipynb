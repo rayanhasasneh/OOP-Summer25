{
 "cells": [
  {
   "cell_type": "code",
   "execution_count": 1,
   "id": "0cf4ebfa",
   "metadata": {},
   "outputs": [],
   "source": [
    "class Animal:\n",
    "    def __init__(self):\n",
    "        print(\"Hello\")"
   ]
  },
  {
   "cell_type": "code",
   "execution_count": 2,
   "id": "359d0f42",
   "metadata": {},
   "outputs": [
    {
     "name": "stdout",
     "output_type": "stream",
     "text": [
      "Hello\n",
      "Hello\n",
      "Hello\n"
     ]
    }
   ],
   "source": [
    "animal1 = Animal()\n",
    "animal2 = Animal()\n",
    "animal3 = Animal()"
   ]
  },
  {
   "cell_type": "code",
   "execution_count": 3,
   "id": "d1719fb8",
   "metadata": {},
   "outputs": [],
   "source": [
    "class Car:\n",
    "    def __init__(self, brand, model):\n",
    "        self.brand = brand\n",
    "        self.model = model\n",
    "        "
   ]
  },
  {
   "cell_type": "code",
   "execution_count": 5,
   "id": "111149c3",
   "metadata": {},
   "outputs": [],
   "source": [
    "car1 = Car(\"bmw\", \"sedans\")\n",
    "car2 = Car(\"mercedes\", \"GLS\")\n",
    "car3 = Car(\"audi\", \"Q7\")"
   ]
  },
  {
   "cell_type": "markdown",
   "id": "ab81b472",
   "metadata": {},
   "source": [
    "## Task for extra point - complex constructor"
   ]
  },
  {
   "cell_type": "code",
   "execution_count": 6,
   "id": "1b2a45f8",
   "metadata": {},
   "outputs": [],
   "source": [
    "class House:\n",
    "    def __init__(self, location, floors, furnitures):\n",
    "        self.location = location\n",
    "        self.floors = floors\n",
    "        self.furnitures = furnitures\n",
    "        "
   ]
  },
  {
   "cell_type": "code",
   "execution_count": 8,
   "id": "f3ec10d5",
   "metadata": {},
   "outputs": [],
   "source": [
    "house1 = House( { \n",
    "               'country':'Poland', \n",
    "               'city': 'Warsaw',\n",
    "               'street': 'dywizjonu ak jelen'}, 2, ['tabel', 'sofa', 'TV']  )\n",
    "house2 = House( { \n",
    "               'country':'Jordan', \n",
    "               'city': 'Amman',\n",
    "               'street': 'airport street'}, 0, ['tabel', 'sofa', 'TV', 'closet'])"
   ]
  }
 ],
 "metadata": {
  "kernelspec": {
   "display_name": "Python 3",
   "language": "python",
   "name": "python3"
  },
  "language_info": {
   "codemirror_mode": {
    "name": "ipython",
    "version": 3
   },
   "file_extension": ".py",
   "mimetype": "text/x-python",
   "name": "python",
   "nbconvert_exporter": "python",
   "pygments_lexer": "ipython3",
   "version": "3.12.1"
  }
 },
 "nbformat": 4,
 "nbformat_minor": 5
}
