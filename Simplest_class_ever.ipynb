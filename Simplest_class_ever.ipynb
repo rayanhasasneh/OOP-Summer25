{
 "cells": [
  {
   "cell_type": "markdown",
   "id": "28992508",
   "metadata": {},
   "source": [
    "# Simplest class ever"
   ]
  },
  {
   "cell_type": "code",
   "execution_count": 3,
   "id": "996b6fc9",
   "metadata": {},
   "outputs": [],
   "source": [
    "class MyFlower:\n",
    "    pass"
   ]
  },
  {
   "cell_type": "markdown",
   "id": "b09b015d",
   "metadata": {},
   "source": [
    "## what can we do with such class?"
   ]
  },
  {
   "cell_type": "markdown",
   "id": "751bbd84",
   "metadata": {},
   "source": [
    "1. we can creat an object even if this is embty"
   ]
  },
  {
   "cell_type": "code",
   "execution_count": 7,
   "id": "d4b20d5c",
   "metadata": {},
   "outputs": [
    {
     "data": {
      "text/plain": [
       "<__main__.MyFlower at 0x7b274412b500>"
      ]
     },
     "execution_count": 7,
     "metadata": {},
     "output_type": "execute_result"
    }
   ],
   "source": [
    "MyFlower()"
   ]
  },
  {
   "cell_type": "markdown",
   "id": "7c6b838b",
   "metadata": {},
   "source": [
    "2. we can creat and assign the object to the variable"
   ]
  },
  {
   "cell_type": "code",
   "execution_count": 8,
   "id": "5507f250",
   "metadata": {},
   "outputs": [],
   "source": [
    "my_flower_1 = MyFlower()"
   ]
  },
  {
   "cell_type": "markdown",
   "id": "7c8dd79c",
   "metadata": {},
   "source": [
    "3. we can print the object with it's address in my memory"
   ]
  },
  {
   "cell_type": "code",
   "execution_count": 9,
   "id": "c2a01813",
   "metadata": {},
   "outputs": [
    {
     "name": "stdout",
     "output_type": "stream",
     "text": [
      "<__main__.MyFlower object at 0x7b274412b4d0>\n"
     ]
    }
   ],
   "source": [
    "print(my_flower_1)"
   ]
  },
  {
   "cell_type": "markdown",
   "id": "c238fb44",
   "metadata": {},
   "source": [
    "4. we can creat multiple objects of that class"
   ]
  },
  {
   "cell_type": "code",
   "execution_count": 10,
   "id": "1cbae8da",
   "metadata": {},
   "outputs": [],
   "source": [
    "my_flower_2 = MyFlower()\n",
    "my_flower_3 = MyFlower()"
   ]
  },
  {
   "cell_type": "markdown",
   "id": "e765b172",
   "metadata": {},
   "source": [
    "5. we can check the addresses on those objects in the memory"
   ]
  },
  {
   "cell_type": "code",
   "execution_count": 11,
   "id": "ff9f7d80",
   "metadata": {},
   "outputs": [
    {
     "name": "stdout",
     "output_type": "stream",
     "text": [
      "<__main__.MyFlower object at 0x7b274412b4d0>\n",
      "<__main__.MyFlower object at 0x7b27442cb740>\n",
      "<__main__.MyFlower object at 0x7b27440f5e50>\n"
     ]
    }
   ],
   "source": [
    "print (my_flower_1)\n",
    "print (my_flower_2)\n",
    "print (my_flower_3)"
   ]
  },
  {
   "cell_type": "markdown",
   "id": "70a4969a",
   "metadata": {},
   "source": [
    "6. we can check the type of the object"
   ]
  },
  {
   "cell_type": "code",
   "execution_count": 12,
   "id": "d204ff42",
   "metadata": {},
   "outputs": [
    {
     "name": "stdout",
     "output_type": "stream",
     "text": [
      "<class '__main__.MyFlower'>\n",
      "<class '__main__.MyFlower'>\n",
      "<class '__main__.MyFlower'>\n"
     ]
    }
   ],
   "source": [
    "print (type(my_flower_1))\n",
    "print (type(my_flower_2))\n",
    "print (type (my_flower_3))"
   ]
  }
 ],
 "metadata": {
  "kernelspec": {
   "display_name": "Python 3",
   "language": "python",
   "name": "python3"
  },
  "language_info": {
   "codemirror_mode": {
    "name": "ipython",
    "version": 3
   },
   "file_extension": ".py",
   "mimetype": "text/x-python",
   "name": "python",
   "nbconvert_exporter": "python",
   "pygments_lexer": "ipython3",
   "version": "3.12.1"
  }
 },
 "nbformat": 4,
 "nbformat_minor": 5
}
