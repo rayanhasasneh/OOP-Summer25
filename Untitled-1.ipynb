{
 "cells": [
  {
   "cell_type": "markdown",
   "id": "67871b5c",
   "metadata": {},
   "source": []
  },
  {
   "cell_type": "markdown",
   "id": "cffb265d",
   "metadata": {},
   "source": [
    "# simplest class ever"
   ]
  },
  {
   "cell_type": "code",
   "execution_count": 4,
   "id": "5cdd2eab",
   "metadata": {},
   "outputs": [],
   "source": [
    "class Myflower:\n",
    "    pass"
   ]
  },
  {
   "cell_type": "markdown",
   "id": "9d72588c",
   "metadata": {},
   "source": [
    "# what can we do with such class?"
   ]
  },
  {
   "cell_type": "markdown",
   "id": "7bb3b652",
   "metadata": {},
   "source": [
    "1. we can create an object even if this is empty"
   ]
  },
  {
   "cell_type": "code",
   "execution_count": null,
   "id": "687cc227",
   "metadata": {},
   "outputs": [],
   "source": []
  }
 ],
 "metadata": {
  "kernelspec": {
   "display_name": "Python 3",
   "language": "python",
   "name": "python3"
  },
  "language_info": {
   "codemirror_mode": {
    "name": "ipython",
    "version": 3
   },
   "file_extension": ".py",
   "mimetype": "text/x-python",
   "name": "python",
   "nbconvert_exporter": "python",
   "pygments_lexer": "ipython3",
   "version": "3.12.1"
  }
 },
 "nbformat": 4,
 "nbformat_minor": 5
}
