{
 "cells": [
  {
   "cell_type": "markdown",
   "id": "47383c07",
   "metadata": {},
   "source": [
    "## a parent class"
   ]
  },
  {
   "cell_type": "code",
   "execution_count": 8,
   "id": "8f8b040e",
   "metadata": {},
   "outputs": [],
   "source": [
    "class Animal:\n",
    "    def give_sound(self, sound):\n",
    "        print(sound)"
   ]
  },
  {
   "cell_type": "code",
   "execution_count": 9,
   "id": "847a3741",
   "metadata": {},
   "outputs": [
    {
     "name": "stdout",
     "output_type": "stream",
     "text": [
      "woof\n"
     ]
    }
   ],
   "source": [
    "my_animal = Animal()\n",
    "my_animal.give_sound(\"woof\")"
   ]
  },
  {
   "cell_type": "markdown",
   "id": "960e1724",
   "metadata": {},
   "source": [
    "## child class"
   ]
  },
  {
   "cell_type": "code",
   "execution_count": 10,
   "id": "c7c00711",
   "metadata": {},
   "outputs": [],
   "source": [
    "class Dog(Animal):\n",
    "    def bark(self):\n",
    "        self.give_sound(\"woof\")"
   ]
  },
  {
   "cell_type": "code",
   "execution_count": 11,
   "id": "7b34f786",
   "metadata": {},
   "outputs": [
    {
     "name": "stdout",
     "output_type": "stream",
     "text": [
      "woof\n"
     ]
    }
   ],
   "source": [
    "my_doggy = Dog()\n",
    "my_doggy.bark()"
   ]
  },
  {
   "cell_type": "markdown",
   "id": "6f15aced",
   "metadata": {},
   "source": [
    "## a parent class"
   ]
  },
  {
   "cell_type": "code",
   "execution_count": 12,
   "id": "d14c471d",
   "metadata": {},
   "outputs": [],
   "source": [
    "class Person:\n",
    "    def __init__(self, first_name, last_name):\n",
    "        self.first_name = first_name\n",
    "        self.last_name = last_name"
   ]
  },
  {
   "cell_type": "markdown",
   "id": "43eac217",
   "metadata": {},
   "source": [
    "## student class without inheritance"
   ]
  },
  {
   "cell_type": "code",
   "execution_count": 17,
   "id": "bd7e4054",
   "metadata": {},
   "outputs": [
    {
     "name": "stdout",
     "output_type": "stream",
     "text": [
      "Name: Rayan Hasasneh, index: 35461\n"
     ]
    }
   ],
   "source": [
    "class Student:\n",
    "    def __init__(self, first_name, last_name, index_number):\n",
    "        self.first_name = first_name\n",
    "        self.last_name = last_name\n",
    "        self.index_number = index_number\n",
    "\n",
    "    def display_info(self):\n",
    "        print(f\"Name: {self.first_name} {self.last_name}, index: {self.index_number}\")\n",
    "\n",
    "student1 = Student('Rayan', 'Hasasneh', '35461')\n",
    "student1.display_info()"
   ]
  },
  {
   "cell_type": "markdown",
   "id": "c896facd",
   "metadata": {},
   "source": [
    "## Student class with inheritance"
   ]
  },
  {
   "cell_type": "code",
   "execution_count": 20,
   "id": "5855e044",
   "metadata": {},
   "outputs": [
    {
     "name": "stdout",
     "output_type": "stream",
     "text": [
      "Name: Rayan Hasasneh, index: 35461\n"
     ]
    }
   ],
   "source": [
    "class Student(Person):\n",
    "    def __init__(self, first_name, last_name, index_number):\n",
    "        super().__init__(first_name, last_name)  \n",
    "        self.index_number = index_number\n",
    "\n",
    "    def display_info(self):\n",
    "        print(f\"Name: {self.first_name} {self.last_name}, index: {self.index_number}\")\n",
    "\n",
    "student1 = Student('Rayan', 'Hasasneh', '35461')\n",
    "student1.display_info()"
   ]
  }
 ],
 "metadata": {
  "kernelspec": {
   "display_name": "Python 3",
   "language": "python",
   "name": "python3"
  },
  "language_info": {
   "codemirror_mode": {
    "name": "ipython",
    "version": 3
   },
   "file_extension": ".py",
   "mimetype": "text/x-python",
   "name": "python",
   "nbconvert_exporter": "python",
   "pygments_lexer": "ipython3",
   "version": "3.12.1"
  }
 },
 "nbformat": 4,
 "nbformat_minor": 5
}
