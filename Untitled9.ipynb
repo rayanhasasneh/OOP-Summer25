{
  "metadata": {
    "kernelspec": {
      "name": "python",
      "display_name": "Python (Pyodide)",
      "language": "python"
    },
    "language_info": {
      "codemirror_mode": {
        "name": "python",
        "version": 3
      },
      "file_extension": ".py",
      "mimetype": "text/x-python",
      "name": "python",
      "nbconvert_exporter": "python",
      "pygments_lexer": "ipython3",
      "version": "3.8"
    }
  },
  "nbformat_minor": 5,
  "nbformat": 4,
  "cells": [
    {
      "id": "35a1d8ab-cca5-4086-aa81-72a1c6df8085",
      "cell_type": "markdown",
      "source": "# Simplest class ever",
      "metadata": {}
    },
    {
      "id": "2589673b-dd9e-490b-a418-c3d94dbdc611",
      "cell_type": "code",
      "source": "# we want to have an empty class\n# but it is not possible to leave empty :( \nclass MyStar:\n    pass # but when we put pass then it behaves like it is empty",
      "metadata": {
        "trusted": true
      },
      "outputs": [],
      "execution_count": null
    },
    {
      "id": "ae512f8f-8620-4ec7-b21b-72bd70d32db9",
      "cell_type": "markdown",
      "source": "# Simplest object ever",
      "metadata": {}
    },
    {
      "id": "f2374ec5-1594-4c69-8a86-be11efd1cc30",
      "cell_type": "code",
      "source": "# step 1. We need to have variable (of course snake_case)\n# step 2. We need to call the class name with () eg. MyStar()\n# step 3. We need to assign that call to the variable\n\nmy_first_star = MyStar()",
      "metadata": {
        "trusted": true
      },
      "outputs": [],
      "execution_count": 2
    },
    {
      "id": "af072b0f-3143-48fa-9356-1f3391318754",
      "cell_type": "code",
      "source": "",
      "metadata": {
        "trusted": true
      },
      "outputs": [],
      "execution_count": null
    }
  ]
}