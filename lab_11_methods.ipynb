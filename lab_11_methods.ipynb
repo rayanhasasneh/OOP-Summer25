{
 "cells": [
  {
   "cell_type": "code",
   "execution_count": 5,
   "id": "5a0b454a",
   "metadata": {},
   "outputs": [],
   "source": [
    "class Student:\n",
    "    def hello(self):\n",
    "        print('Hello')"
   ]
  },
  {
   "cell_type": "code",
   "execution_count": 6,
   "id": "f4c1ab53",
   "metadata": {},
   "outputs": [
    {
     "name": "stdout",
     "output_type": "stream",
     "text": [
      "Hello\n"
     ]
    }
   ],
   "source": [
    "student1 = Student()\n",
    "student1.hello()"
   ]
  },
  {
   "cell_type": "code",
   "execution_count": 36,
   "id": "75ce7079",
   "metadata": {},
   "outputs": [],
   "source": [
    "class Student:\n",
    "    def __init__(self, name, index_number):\n",
    "        self.name = name\n",
    "        self.index_number = index_number\n",
    "    def Hello(self):\n",
    "        print( f'Hello, I am {self.name} my index number is {self.index_number}' )"
   ]
  },
  {
   "cell_type": "code",
   "execution_count": 37,
   "id": "af7ea3a4",
   "metadata": {},
   "outputs": [
    {
     "name": "stdout",
     "output_type": "stream",
     "text": [
      "Hello, I am Rayan my index number is 35461\n"
     ]
    }
   ],
   "source": [
    "student2 = Student('Rayan', 35461)\n",
    "student2.Hello()"
   ]
  }
 ],
 "metadata": {
  "kernelspec": {
   "display_name": "Python 3",
   "language": "python",
   "name": "python3"
  },
  "language_info": {
   "codemirror_mode": {
    "name": "ipython",
    "version": 3
   },
   "file_extension": ".py",
   "mimetype": "text/x-python",
   "name": "python",
   "nbconvert_exporter": "python",
   "pygments_lexer": "ipython3",
   "version": "3.12.1"
  }
 },
 "nbformat": 4,
 "nbformat_minor": 5
}
