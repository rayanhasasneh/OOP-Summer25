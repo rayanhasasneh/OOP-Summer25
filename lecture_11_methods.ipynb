{
 "cells": [
  {
   "cell_type": "markdown",
   "id": "5f042d44",
   "metadata": {},
   "source": [
    "# what are functions"
   ]
  },
  {
   "cell_type": "markdown",
   "id": "0c717aa6",
   "metadata": {},
   "source": [
    "##### A function is a block of code which only runs when it is called.\n",
    "##### You can pass data, known as parameters (arguments), into a function.\n",
    "##### A function can return data as a result."
   ]
  },
  {
   "cell_type": "markdown",
   "id": "13015f82",
   "metadata": {},
   "source": [
    "## function without arguments"
   ]
  },
  {
   "cell_type": "code",
   "execution_count": 1,
   "id": "ef04aaac",
   "metadata": {},
   "outputs": [],
   "source": [
    "def make_sound():\n",
    "    print('hi')"
   ]
  },
  {
   "cell_type": "markdown",
   "id": "56a4017a",
   "metadata": {},
   "source": [
    "## How to call the function?"
   ]
  },
  {
   "cell_type": "code",
   "execution_count": 2,
   "id": "595fc49f",
   "metadata": {},
   "outputs": [
    {
     "name": "stdout",
     "output_type": "stream",
     "text": [
      "hi\n"
     ]
    }
   ],
   "source": [
    "make_sound()"
   ]
  },
  {
   "cell_type": "markdown",
   "id": "cb963659",
   "metadata": {},
   "source": [
    "## function with arguments"
   ]
  },
  {
   "cell_type": "code",
   "execution_count": 3,
   "id": "9d7e4b63",
   "metadata": {},
   "outputs": [],
   "source": [
    "def make_sound(sound):\n",
    "    print('hi', sound)"
   ]
  },
  {
   "cell_type": "code",
   "execution_count": 4,
   "id": "77859dd0",
   "metadata": {},
   "outputs": [
    {
     "name": "stdout",
     "output_type": "stream",
     "text": [
      "hi cat\n"
     ]
    }
   ],
   "source": [
    "make_sound('cat')"
   ]
  },
  {
   "cell_type": "markdown",
   "id": "5677fa59",
   "metadata": {},
   "source": [
    "# what are methods?"
   ]
  },
  {
   "cell_type": "markdown",
   "id": "37d85b8a",
   "metadata": {},
   "source": [
    "methods are functions that belong to the object."
   ]
  },
  {
   "cell_type": "markdown",
   "id": "5571d382",
   "metadata": {},
   "source": [
    "## method without arguments"
   ]
  },
  {
   "cell_type": "code",
   "execution_count": 5,
   "id": "63bbd626",
   "metadata": {},
   "outputs": [],
   "source": [
    "class MyAnimal:\n",
    "    def make_sound(self):\n",
    "        print('hi')"
   ]
  },
  {
   "cell_type": "markdown",
   "id": "7aaed3c1",
   "metadata": {},
   "source": [
    "## how to call it?"
   ]
  },
  {
   "cell_type": "code",
   "execution_count": 6,
   "id": "918b6742",
   "metadata": {},
   "outputs": [
    {
     "name": "stdout",
     "output_type": "stream",
     "text": [
      "hi\n"
     ]
    }
   ],
   "source": [
    "my_dog = MyAnimal()\n",
    "my_dog.make_sound()"
   ]
  },
  {
   "cell_type": "markdown",
   "id": "d0239413",
   "metadata": {},
   "source": [
    "# method with arguments"
   ]
  },
  {
   "cell_type": "code",
   "execution_count": 7,
   "id": "372bb02f",
   "metadata": {},
   "outputs": [],
   "source": [
    "class MyAnimal:\n",
    "    def make_sound(self, name):\n",
    "        print('hi', name)"
   ]
  },
  {
   "cell_type": "code",
   "execution_count": 8,
   "id": "0d6a8142",
   "metadata": {},
   "outputs": [
    {
     "name": "stdout",
     "output_type": "stream",
     "text": [
      "hi katy\n"
     ]
    }
   ],
   "source": [
    "my_cat = MyAnimal()\n",
    "my_cat.make_sound('katy')"
   ]
  }
 ],
 "metadata": {
  "kernelspec": {
   "display_name": "Python 3",
   "language": "python",
   "name": "python3"
  },
  "language_info": {
   "codemirror_mode": {
    "name": "ipython",
    "version": 3
   },
   "file_extension": ".py",
   "mimetype": "text/x-python",
   "name": "python",
   "nbconvert_exporter": "python",
   "pygments_lexer": "ipython3",
   "version": "3.12.1"
  }
 },
 "nbformat": 4,
 "nbformat_minor": 5
}
