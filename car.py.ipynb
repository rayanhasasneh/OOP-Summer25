{
 "cells": [
  {
   "cell_type": "code",
   "execution_count": 7,
   "id": "858f988f",
   "metadata": {},
   "outputs": [],
   "source": [
    "class Car:\n",
    "    def __init__(self, brand):\n",
    "        self.brand = brand \n",
    "        self.__car_model = {'bmw': ['X5 M']}\n",
    "        self.__car_engine = {'bmw': 'V10'}\n",
    "    \n",
    "    def __show_car(self):\n",
    "        self.__car_model = {}\n",
    "        print('bmw X5 M')\n",
    "\n",
    "    def show_car_model(self):\n",
    "        self.__show_car()\n",
    "\n",
    "    def __start_the_engine(self):\n",
    "        self.__car_engine = ''\n",
    "        print('start the car')\n",
    "\n",
    "    def start_the_car(self):\n",
    "        self.__start_the_engine()\n",
    "\n",
    "    def show_the_car_engine(self):\n",
    "        print(self.__car_engine)"
   ]
  },
  {
   "cell_type": "code",
   "execution_count": 8,
   "id": "c6149122",
   "metadata": {},
   "outputs": [
    {
     "name": "stdout",
     "output_type": "stream",
     "text": [
      "start the car\n"
     ]
    }
   ],
   "source": [
    "car1 = Car('bmw')\n",
    "car1.start_the_car()"
   ]
  },
  {
   "cell_type": "code",
   "execution_count": 9,
   "id": "614d15b4",
   "metadata": {},
   "outputs": [
    {
     "name": "stdout",
     "output_type": "stream",
     "text": [
      "bmw X5 M\n"
     ]
    }
   ],
   "source": [
    "car1.show_car_model()"
   ]
  },
  {
   "cell_type": "code",
   "execution_count": 10,
   "id": "3a4f5a63",
   "metadata": {},
   "outputs": [
    {
     "name": "stdout",
     "output_type": "stream",
     "text": [
      "\n"
     ]
    }
   ],
   "source": [
    "car1.show_the_car_engine()"
   ]
  }
 ],
 "metadata": {
  "kernelspec": {
   "display_name": "Python 3",
   "language": "python",
   "name": "python3"
  },
  "language_info": {
   "codemirror_mode": {
    "name": "ipython",
    "version": 3
   },
   "file_extension": ".py",
   "mimetype": "text/x-python",
   "name": "python",
   "nbconvert_exporter": "python",
   "pygments_lexer": "ipython3",
   "version": "3.12.1"
  }
 },
 "nbformat": 4,
 "nbformat_minor": 5
}
