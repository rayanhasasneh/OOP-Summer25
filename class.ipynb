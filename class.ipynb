{
 "cells": [
  {
   "cell_type": "markdown",
   "id": "94a5b60b",
   "metadata": {},
   "source": [
    "# Simplest class ever"
   ]
  },
  {
   "cell_type": "code",
   "execution_count": 1,
   "id": "b5107e8b",
   "metadata": {},
   "outputs": [],
   "source": [
    "# we want to have an empty class\n",
    "# but it is not possible to leave empty :( \n",
    "class MyCar:\n",
    "    pass # but when we put pass then it behaves like it is empty"
   ]
  },
  {
   "cell_type": "markdown",
   "id": "40211299",
   "metadata": {},
   "source": [
    "# Simplest object ever"
   ]
  },
  {
   "cell_type": "code",
   "execution_count": 2,
   "id": "21cd98ae",
   "metadata": {},
   "outputs": [],
   "source": [
    "my_first_car = MyCar()"
   ]
  },
  {
   "cell_type": "markdown",
   "id": "9cb38a25",
   "metadata": {},
   "source": [
    "# class with one method"
   ]
  },
  {
   "cell_type": "code",
   "execution_count": 3,
   "id": "052cf471",
   "metadata": {},
   "outputs": [],
   "source": [
    "class MyCountry:\n",
    "    def city(self):\n",
    "        print(\"Bethlehem\")"
   ]
  },
  {
   "cell_type": "markdown",
   "id": "4e14f7b6",
   "metadata": {},
   "source": [
    "# the usage of that method"
   ]
  },
  {
   "cell_type": "code",
   "execution_count": 4,
   "id": "c4903a3c",
   "metadata": {},
   "outputs": [
    {
     "name": "stdout",
     "output_type": "stream",
     "text": [
      "Bethlehem\n"
     ]
    }
   ],
   "source": [
    "city1 = MyCountry()\n",
    "city1.city()"
   ]
  }
 ],
 "metadata": {
  "kernelspec": {
   "display_name": "Python 3",
   "language": "python",
   "name": "python3"
  },
  "language_info": {
   "codemirror_mode": {
    "name": "ipython",
    "version": 3
   },
   "file_extension": ".py",
   "mimetype": "text/x-python",
   "name": "python",
   "nbconvert_exporter": "python",
   "pygments_lexer": "ipython3",
   "version": "3.12.1"
  }
 },
 "nbformat": 4,
 "nbformat_minor": 5
}
